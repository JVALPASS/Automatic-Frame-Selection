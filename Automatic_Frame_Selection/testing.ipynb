{
 "cells": [
  {
   "cell_type": "code",
   "execution_count": null,
   "metadata": {},
   "outputs": [],
   "source": [
    "import keras\n",
    "from keras.models import Sequential\n",
    "from keras.layers import Dense, Dropout, Flatten\n",
    "from keras.layers import Conv2D, MaxPooling2D\n",
    "from keras.utils import to_categorical\n",
    "from keras.preprocessing import image\n",
    "import numpy as np\n",
    "import pandas as pd\n",
    "import glob\n",
    "import matplotlib.pyplot as plt\n",
    "from sklearn.model_selection import train_test_split\n",
    "from tqdm import tqdm\n",
    "%matplotlib inline\n",
    "from sklearn import preprocessing\n",
    "import netron\n",
    "from keras.models import load_model\n",
    "import pickle\n",
    "import os\n",
    "import csv\n",
    "from csv import writer\n",
    "from csv import reader"
   ]
  },
  {
   "cell_type": "code",
   "execution_count": null,
   "metadata": {},
   "outputs": [],
   "source": [
    "#set the header list\n",
    "header_list = [\"Frame\",\"Face\",\"keypoint\",\"Body\",\"1_x\",\"1_y\",\"1_accuracy\",\"2_x\",\"2_y\",\"2_accuracy\",\"3_x\",\"3_y\",\"3_accuracy\",\"4_x\",\"4_y\",\"4_accuracy\",\"5_x\",\"5_y\",\"5_accuracy\",\"6_x\",\"6_y\",\"6_accuracy\",\"7_x\",\"7_y\",\"7_accuracy\",\"8_x\",\"8_y\",\"8_accuracy\",\"9_x\",\"9_y\",\"9_accuracy\",\n",
    "               \"10_x\",\"10_y\",\"10_accuracy\",\"11_x\",\"11_y\",\"11_accuracy\",\"12_x\",\"12_y\",\"12_accuracy\",\"13_x\",\"13_y\",\"13_accuracy\",\"14_x\",\"14_y\",\"14_accuracy\",\"15_x\",\"15_y\",\"15_accuracy\",\"16_x\",\"16_y\",\"16_accuracy\",\"17_x\",\"17_y\",\"17_accuracy\",\"18_x\",\"18_y\",\"18_accuracy\",\"19_x\",\"19_y\",\"19_accuracy\",\n",
    "               \"20_x\",\"20_y\",\"20_accuracy\",\"21_x\",\"21_y\",\"21_accuracy\",\"22_x\",\"22_y\",\"22_accuracy\",\"23_x\",\"23_y\",\"23_accuracy\",\"24_x\",\"24_y\",\"24_accuracy\",\"25_x\",\"25_y\",\"25_accuracy\"]\n",
    "df = pd.read_csv('merged_json_csv_test.csv', names=header_list)\n",
    "#set lists with frame data extracted with dlib and openpose\n",
    "frame=df['Frame']\n",
    "face=df['Face']\n",
    "body=df['Body']\n",
    "\n",
    "le = preprocessing.LabelEncoder()\n",
    "# Converting string labels into numbers.\n",
    "face_encoded=le.fit_transform(face)\n",
    "body_encoded=le.fit_transform(body)\n",
    "\n",
    "print (\"Frame:\", frame)\n",
    "print (\"Face:\", face_encoded)\n",
    "print(\"Body:\", body_encoded)\n",
    "#create the list with images\n",
    "test_image = []\n",
    "for i in tqdm(range(frame.shape[0])):\n",
    "    img = image.load_img('C:\\\\Users\\\\CASALAB\\\\Desktop\\\\progetto_CASA\\\\prova3/'+frame[i][:6]+'/'+frame[i][-4:]+'.jpg',target_size=(150,150,3))\n",
    "    img = image.img_to_array(img)\n",
    "    img = img/255\n",
    "    test_image.append(img)"
   ]
  },
  {
   "cell_type": "code",
   "execution_count": null,
   "metadata": {},
   "outputs": [],
   "source": [
    "#load the model with 1 dense layer and 25 train epoch\n",
    "modelA = load_model('ModelloAllenato_shuffle.hdf5')"
   ]
  },
  {
   "cell_type": "code",
   "execution_count": null,
   "metadata": {},
   "outputs": [],
   "source": [
    "test_body=[]\n",
    "test_face=[]\n",
    "#made the prediction about th eentire image array\n",
    "proba = modelA.predict(np.array(test_image))\n",
    "#label the model's output\n",
    "for x in range(len(test_image)):\n",
    "    proba[x][1]=proba[x][1]\n",
    "    test_face.append(int(bool(proba[x][0]>0.5)))\n",
    "    test_body.append(int(bool(proba[x][1]>0.5)))\n",
    "#count the right respons\n",
    "right=0\n",
    "right_face=0\n",
    "right_body=0\n",
    "for x in range(len(test_body)):\n",
    "    if test_face[x]==face_encoded[x] and test_body[x]==body_encoded[x]:\n",
    "        right+=1\n",
    "for x in range(len(test_body)):\n",
    "    if test_body[x]==body_encoded[x]:\n",
    "        right_body+=1\n",
    "for x in range(len(test_face)):\n",
    "    if test_face[x]==face_encoded[x]:\n",
    "        right_face+=1\n",
    "        \n",
    "#write the output csv with correct respons and prediction\n",
    "with open('test2.csv', mode='w', newline='') as jsonfile:\n",
    "    json_writer = csv.writer(jsonfile)\n",
    "    for x in range(len(test_body)):\n",
    "        json_writer.writerow([face_encoded[x]]+[body_encoded[x]]+[test_face[x]]+[test_body[x]])\n",
    "        \n",
    "#calculate and print the precision \n",
    "accuracy=right*100/len(test_body)\n",
    "print(\"Accuracy:\"+str(accuracy)+\"%\")\n",
    "face_accuracy=right_face*100/len(test_face)\n",
    "print(\"Face Accuracy:\"+str(face_accuracy)+\"%\")\n",
    "body_accuracy=right_body*100/len(test_body)\n",
    "print(\"Body Accuracy:\"+str(body_accuracy)+\"%\")\n",
    "#print the output csv file\n",
    "df = pd.read_csv('test.csv', names=['face','body','test_face','test_body'])\n",
    "df\n",
    "    "
   ]
  },
  {
   "cell_type": "code",
   "execution_count": null,
   "metadata": {},
   "outputs": [],
   "source": []
  }
 ],
 "metadata": {
  "kernelspec": {
   "display_name": "Python 3",
   "language": "python",
   "name": "python3"
  },
  "language_info": {
   "codemirror_mode": {
    "name": "ipython",
    "version": 3
   },
   "file_extension": ".py",
   "mimetype": "text/x-python",
   "name": "python",
   "nbconvert_exporter": "python",
   "pygments_lexer": "ipython3",
   "version": "3.8.5"
  }
 },
 "nbformat": 4,
 "nbformat_minor": 4
}
