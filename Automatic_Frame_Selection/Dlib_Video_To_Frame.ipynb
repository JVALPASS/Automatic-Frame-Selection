{
 "cells": [
  {
   "cell_type": "markdown",
   "metadata": {
    "scrolled": false
   },
   "source": [
    "# Import"
   ]
  },
  {
   "cell_type": "code",
   "execution_count": 1,
   "metadata": {
    "scrolled": false
   },
   "outputs": [
    {
     "ename": "ModuleNotFoundError",
     "evalue": "No module named 'dlib'",
     "output_type": "error",
     "traceback": [
      "\u001b[1;31m---------------------------------------------------------------------------\u001b[0m",
      "\u001b[1;31mModuleNotFoundError\u001b[0m                       Traceback (most recent call last)",
      "\u001b[1;32m<ipython-input-1-0adfc2a0876f>\u001b[0m in \u001b[0;36m<module>\u001b[1;34m\u001b[0m\n\u001b[1;32m----> 1\u001b[1;33m \u001b[1;32mimport\u001b[0m \u001b[0mdlib\u001b[0m\u001b[1;33m\u001b[0m\u001b[1;33m\u001b[0m\u001b[0m\n\u001b[0m\u001b[0;32m      2\u001b[0m \u001b[1;32mimport\u001b[0m \u001b[0mnumpy\u001b[0m \u001b[1;32mas\u001b[0m \u001b[0mnp\u001b[0m\u001b[1;33m\u001b[0m\u001b[1;33m\u001b[0m\u001b[0m\n\u001b[0;32m      3\u001b[0m \u001b[1;32mimport\u001b[0m \u001b[0mpandas\u001b[0m \u001b[1;32mas\u001b[0m \u001b[0mdf\u001b[0m\u001b[1;33m\u001b[0m\u001b[1;33m\u001b[0m\u001b[0m\n\u001b[0;32m      4\u001b[0m \u001b[1;32mimport\u001b[0m \u001b[0mcv2\u001b[0m\u001b[1;33m\u001b[0m\u001b[1;33m\u001b[0m\u001b[0m\n\u001b[0;32m      5\u001b[0m \u001b[1;32mimport\u001b[0m \u001b[0msys\u001b[0m\u001b[1;33m\u001b[0m\u001b[1;33m\u001b[0m\u001b[0m\n",
      "\u001b[1;31mModuleNotFoundError\u001b[0m: No module named 'dlib'"
     ]
    }
   ],
   "source": [
    "import dlib\n",
    "import numpy as np\n",
    "import pandas as df\n",
    "import cv2\n",
    "import sys\n",
    "import ffmpeg\n",
    "import os\n",
    "import natsort\n",
    "import glob\n",
    "import csv"
   ]
  },
  {
   "cell_type": "markdown",
   "metadata": {},
   "source": [
    "# Rotation management\n",
    "In some situations opencv reads a video but cannot understand the rotation codecs, and rotates the video and the extracted frames, this method is used to read the codecs and rotate the video in the right way, because dlib does not recognize the rotated faces"
   ]
  },
  {
   "cell_type": "code",
   "execution_count": null,
   "metadata": {},
   "outputs": [],
   "source": [
    "\n",
    "def check_rotation(path_video_file):\n",
    "     # returns the meta-data of the dictionary-style videos\n",
    "    meta_dict = ffmpeg.probe(path_video_file)\n",
    "\n",
    "    # rotate parameter search\n",
    "    rotateCode = None\n",
    "    try:\n",
    "        if int(meta_dict['streams'][0]['tags']['rotate']) == 90: #see if in the video meta-data the roate parameter is 90\n",
    "            rotateCode = cv2.ROTATE_90_CLOCKWISE\n",
    "        elif int(meta_dict['streams'][0]['tags']['rotate']) == 180: #see if in the video meta data the roate parameter is 180\n",
    "            rotateCode = cv2.ROTATE_180\n",
    "        elif int(meta_dict['streams'][0]['tags']['rotate']) == 270: #see if in the video meta data the roate parameter is 270\n",
    "            rotateCode = cv2.ROTATE_90_COUNTERCLOCKWISE\n",
    "    #exception if it doesn't find the rotate parameter\n",
    "    except:\n",
    "        print('non trova attributo rotate')\n",
    "\n",
    "    return rotateCode"
   ]
  },
  {
   "cell_type": "markdown",
   "metadata": {},
   "source": [
    "# Method to return the correct rotation"
   ]
  },
  {
   "cell_type": "code",
   "execution_count": null,
   "metadata": {},
   "outputs": [],
   "source": [
    "def correct_rotation(frame, rotateCode):  \n",
    "    return cv2.rotate(frame, rotateCode)"
   ]
  },
  {
   "cell_type": "markdown",
   "metadata": {},
   "source": [
    "# Method that provides the Images array\n",
    "this method takes the extracted frames in the video that have been saved in the folder folder, and loads them into the images array in sequential order"
   ]
  },
  {
   "cell_type": "code",
   "execution_count": null,
   "metadata": {},
   "outputs": [],
   "source": [
    "def load_images_from_folder(folder):\n",
    "    \n",
    "    images = []\n",
    "    dirFiles = os.listdir(folder)\n",
    "\n",
    "    dirFiles = natsort.natsorted(dirFiles,reverse=False)#sorts the image paths sequentially\n",
    "    i = 0\n",
    "    print('array population in progress...')\n",
    "    for filename in dirFiles:\n",
    "        img = cv2.imread(os.path.join(folder,filename))\n",
    "        if img is not None:\n",
    "            images.append(img)\n",
    "    print('population finished')\n",
    "    \n",
    "    return images\n"
   ]
  },
  {
   "cell_type": "markdown",
   "metadata": {},
   "source": [
    "# Method for calculating the confidence score\n",
    "Calculate confidence for detection face"
   ]
  },
  {
   "cell_type": "code",
   "execution_count": 2,
   "metadata": {},
   "outputs": [],
   "source": [
    "def calcoloConfidenceScore(detector, image, faces, idImage):\n",
    "    dets, scores, idx = detector.run(image, 1, -1)\n",
    "    for i, d in enumerate(faces):\n",
    "        print(\"Detection {}, score: {}, face_type:{}, idImage:{}\".format(#in score vi sarà la confidence del volto rilevato\n",
    "            d, scores[i], idx[i], idImage))\n",
    "    return scores"
   ]
  },
  {
   "cell_type": "markdown",
   "metadata": {},
   "source": [
    "# Method for face detection\n",
    "dlib is applied for face detection and a csv is written in which 0 if the face is present and 1 if not present is associated to each frame"
   ]
  },
  {
   "cell_type": "code",
   "execution_count": null,
   "metadata": {},
   "outputs": [],
   "source": [
    "def detect_face(image, i ,video):\n",
    "    originalImage = image.copy()\n",
    "    best_face=0\n",
    "    max_area=-1\n",
    "    outputFolderDetected = 'face_detected/'\n",
    "    outputFolderNotDetected = 'face_not_detected/'\n",
    "    #detector inizialization\n",
    "    detector = dlib.get_frontal_face_detector()\n",
    "    name_frame=vid+\"_\"+\"{0:0=12d}\".format(i);\n",
    "    #faces detected by the detector\n",
    "    faces = detector(image)\n",
    "    with open( 'dlib.csv', mode='a', newline='') as f:\n",
    "        writer = csv.writer(f)\n",
    "       \n",
    "        #ConfidenceScore calculation\n",
    "        if(len(faces)>0):\n",
    "            score = calcoloConfidenceScore(detector, originalImage, faces, i)\n",
    "            x=0\n",
    "            cord = []\n",
    "            best_face = 0\n",
    "            for face in faces:\n",
    "                print(face)\n",
    "                x1 = face.left()#first parameter\n",
    "                y1 = face.top()#second parameter\n",
    "                x2 = face.right()#third parameter\n",
    "                y2 = face.bottom()#fourth parameter\n",
    "                cv2.rectangle(image, (x1, y1), (x2, y2), (0, 255, 0), 3)\n",
    "                height = y1 - y2\n",
    "                width = x2 - x1\n",
    "                area = height * width\n",
    "                if(score[x]> 0.1 and score[x]> best_face):\n",
    "                    cord.insert(0,x1)\n",
    "                    cord.insert(1,y1)\n",
    "                    cord.insert(2,x2)\n",
    "                    cord.insert(3,y2)\n",
    "                    best_face = score[x]\n",
    "                    print(cord[0])\n",
    "                x+=1\n",
    "                if(best_face>0):\n",
    "                    writer.writerow([str(name_frame)]+['1']+ [cord[0]]+ [cord[1]]+ [cord[2]]+ [cord[3]])\n",
    "                else:\n",
    "                    writer.writerow([str(name_frame)]+['0'])\n",
    "        else:\n",
    "            print('no face was detected')\n",
    "            writer.writerow([str(name_frame)]+['0'])\n",
    "        \n"
   ]
  },
  {
   "cell_type": "markdown",
   "metadata": {},
   "source": [
    "# Face detection and csv writing\n",
    "In this portion of code, the methods for populating the array with the frames of the various videos are called, after which dlib is applied for the detection of faces through the call to the \"detect_face\" method."
   ]
  },
  {
   "cell_type": "code",
   "execution_count": null,
   "metadata": {},
   "outputs": [],
   "source": [
    "types = ('*.mp4', '*.MOV') # the tuple of file types\n",
    "file_source = []\n",
    "for files in types:\n",
    "    file_source.extend(glob.glob(files))\n",
    "\n",
    "folderFrameOutput = 'prova3/'\n",
    "result_directory='directoryCsv/'\n",
    "\n",
    "# input a video whose frames you want to extract\n",
    "for inputVideo in file_source:\n",
    "    os.mkdir(folderFrameOutput+'/'+inputVideo[:-4])\n",
    "    cap = cv2.VideoCapture(inputVideo)\n",
    "     # let's see if the video requires rotation\n",
    "    rotateCode = check_rotation(inputVideo)\n",
    "    #remove the path from the frame name\n",
    "    vid=inputVideo[:-4].replace('C:\\\\Users\\\\Valerio\\\\DeepLearning\\\\First_Course_Env\\\\Dlib\\\\DlibProg\\\\dlib', '')\n",
    "   \n",
    "    i= 0\n",
    "     #  loop frame by frame\n",
    "    print(\"extraction in progress...\")\n",
    "    while True:\n",
    "        grabbed, frame = cap.read()\n",
    "\n",
    "         # if the grabbed parameter is false the video is finished\n",
    "        if not grabbed:\n",
    "            break\n",
    "\n",
    "         # check if the video should be rotated\n",
    "        if rotateCode is not None:\n",
    "            frame = correct_rotation(frame, rotateCode)\n",
    "        cv2.imwrite(folderFrameOutput+'/'+inputVideo[:-4]+'/'+\"{0:0=4d}\".format(i)+'.jpg',frame)\n",
    "        i+=1\n",
    "    cap.release()\n",
    "    cv2.destroyAllWindows()\n",
    "    print(\"extraction ended\")\n",
    "    folderFrame = 'prova3'\n",
    "    images = load_images_from_folder(folderFrame+'/'+inputVideo[:-4]) #load_images_from_folder method call\n",
    "    print('array population finished')\n",
    "    i = 0\n",
    "    print('face detection in progress...')\n",
    "    for image in images:\n",
    "        detect_face(image, i, vid) #recall method detect face for face detection\n",
    "        i+=1\n",
    "    print('face detection finished')"
   ]
  }
 ],
 "metadata": {
  "kernelspec": {
   "display_name": "Python 3",
   "language": "python",
   "name": "python3"
  },
  "language_info": {
   "codemirror_mode": {
    "name": "ipython",
    "version": 3
   },
   "file_extension": ".py",
   "mimetype": "text/x-python",
   "name": "python",
   "nbconvert_exporter": "python",
   "pygments_lexer": "ipython3",
   "version": "3.8.5"
  }
 },
 "nbformat": 4,
 "nbformat_minor": 4
}
